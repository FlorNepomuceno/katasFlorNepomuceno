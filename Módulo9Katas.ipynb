{
 "cells": [
  {
   "cell_type": "code",
   "execution_count": 15,
   "metadata": {},
   "outputs": [],
   "source": [
    "# Función para leer 3 tanques de combustible y muestre el promedio\n",
    "def promedio_combustible(tanque_1, tanque_2, tanque_3):\n",
    "    return f\"\"\"Combustible:\n",
    "    Tanque 1: {tanque_1}\n",
    "    Tanque 2: {tanque_2}\n",
    "    Tanque 3: {tanque_3}\n",
    "    Promedio total: {promedio([tanque_1, tanque_2, tanque_3])}\"\"\""
   ]
  },
  {
   "cell_type": "code",
   "execution_count": 16,
   "metadata": {},
   "outputs": [],
   "source": [
    "def promedio (tanques): \n",
    "        total = sum(tanques)\n",
    "        numero_tanques = len(tanques) \n",
    "        return total / numero_tanques"
   ]
  },
  {
   "cell_type": "code",
   "execution_count": 17,
   "metadata": {},
   "outputs": [
    {
     "name": "stdout",
     "output_type": "stream",
     "text": [
      "Combustible:\n",
      "    Tanque 1: 80\n",
      "    Tanque 2: 50\n",
      "    Tanque 3: 51\n",
      "    Promedio total: 60.333333333333336\n"
     ]
    }
   ],
   "source": [
    "print(promedio_combustible(80, 50, 51))"
   ]
  },
  {
   "cell_type": "code",
   "execution_count": 18,
   "metadata": {},
   "outputs": [
    {
     "name": "stdout",
     "output_type": "stream",
     "text": [
      "\n",
      "    Mision hacia: Venus\n",
      "    Hora de lanzamiento: 10\n",
      "    Tiempo de vuelo: 2\n",
      "    Tiempo total del viaje: 12 minutos\n",
      "    Total de combustible: 1100\n",
      "    \n"
     ]
    }
   ],
   "source": [
    "# Función con un informe preciso de la misión. Considera hora de prelanzamiento, tiempo de vuelo, destino, tanque externo y tanque interno\n",
    "def informe(hora_prelanzamiento, tiempo_vuelo, destino, tanque_extrno, tanque_interno):\n",
    "    return f\"\"\"\n",
    "    Mision hacia: {destino}\n",
    "    Hora de lanzamiento: {hora_prelanzamiento}\n",
    "    Tiempo de vuelo: {tiempo_vuelo}\n",
    "    Tiempo total del viaje: {hora_prelanzamiento + tiempo_vuelo} minutos\n",
    "    Total de combustible: {tanque_extrno + tanque_interno}\n",
    "    \"\"\"\n",
    "print(informe(10, 2, \"Venus\", 500, 600))"
   ]
  },
  {
   "cell_type": "code",
   "execution_count": 20,
   "metadata": {},
   "outputs": [
    {
     "name": "stdout",
     "output_type": "stream",
     "text": [
      "\n",
      "    Mision hacia: Venus\n",
      "    Tiempo de vuelo: 36 minutos\n",
      "    Total Combustible: 1100\n",
      "    \n"
     ]
    }
   ],
   "source": [
    "# Escribe tu nueva función de reporte considerando lo anterior\n",
    "\n",
    "def informe(destino, *minutos, **combustible):\n",
    "    return f\"\"\"\n",
    "    Mision hacia: {destino}\n",
    "    Tiempo de vuelo: {sum(minutos)} minutos\n",
    "    Total Combustible: {sum(combustible.values())}\n",
    "    \"\"\"\n",
    "print(informe(\"Venus\", 12, 10, 14, interno= 600, externo= 500))"
   ]
  },
  {
   "cell_type": "code",
   "execution_count": 21,
   "metadata": {},
   "outputs": [
    {
     "name": "stdout",
     "output_type": "stream",
     "text": [
      "\n",
      "    Mision hacia: Venus\n",
      "    Tiempo de vuelo: 36 minutos\n",
      "    Total Combustible: 1100\n",
      "    interno 600 externo 500 \n"
     ]
    }
   ],
   "source": [
    "# Escribe tu nueva función\n",
    "def informe(destino, *minutos, **combustible):\n",
    "    informe_total = f\"\"\"\n",
    "    Mision hacia: {destino}\n",
    "    Tiempo de vuelo: {sum(minutos)} minutos\n",
    "    Total Combustible: {sum(combustible.values())}\n",
    "    \"\"\"\n",
    "    for tanque, galones in combustible.items():\n",
    "        informe_total += f\"{tanque} {galones} \"\n",
    "    return informe_total\n",
    "print(informe(\"Venus\", 12, 10, 14, interno= 600, externo= 500))"
   ]
  }
 ],
 "metadata": {
  "interpreter": {
   "hash": "3f6ea32111d82433ce350dbc633d2cbf10ae61217a78e88037f0e3c79e07d270"
  },
  "kernelspec": {
   "display_name": "Python 3.10.2 64-bit",
   "language": "python",
   "name": "python3"
  },
  "language_info": {
   "codemirror_mode": {
    "name": "ipython",
    "version": 3
   },
   "file_extension": ".py",
   "mimetype": "text/x-python",
   "name": "python",
   "nbconvert_exporter": "python",
   "pygments_lexer": "ipython3",
   "version": "3.10.2"
  },
  "orig_nbformat": 4
 },
 "nbformat": 4,
 "nbformat_minor": 2
}
