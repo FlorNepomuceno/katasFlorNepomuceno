{
 "cells": [
  {
   "cell_type": "code",
   "execution_count": 1,
   "metadata": {},
   "outputs": [
    {
     "name": "stdout",
     "output_type": "stream",
     "text": [
      "Advertencia, asteroide se acerca a la Tierra demasiado rápido\n"
     ]
    }
   ],
   "source": [
    "# Añadir el código necesario para crear una variable que guarde la velocidad del asteroide.\n",
    "# Escribe una expresión de prueba para calcular si necesita una advertencia.\n",
    "# Agregue las instrucciones que se ejecutarán si la expresión de prueba es true o false.\n",
    "a = 49 \n",
    "v = 25\n",
    "if a > v:\n",
    "    print (\"Advertencia, asteroide se acerca a la Tierra demasiado rápido\")\n",
    "else: \n",
    "    print (\"Tierra sin peligros\")"
   ]
  },
  {
   "cell_type": "code",
   "execution_count": 7,
   "metadata": {},
   "outputs": [
    {
     "name": "stdout",
     "output_type": "stream",
     "text": [
      "No hay asteroides visibles\n"
     ]
    }
   ],
   "source": [
    "# Agrega el código para crear una variable para un asteroide que viaja a 19 km/s\n",
    "# Escribe varias expresiones de prueba para determinar si puedes ver el rayo de luz desde la tierra\n",
    "# Agrega las instrucciones que se ejecutarán si las expresiones de prueba son True o False\n",
    "a = 19 \n",
    "\n",
    "if a > 20:\n",
    "    print (\"Alerta! Buscar asteroide en el cielo\")\n",
    "elif a == 20:\n",
    "    print (\"Alerta! Buscar asteroide en el cielo\")\n",
    "else:\n",
    "    print (\"No hay asteroides visibles\")"
   ]
  }
 ],
 "metadata": {
  "interpreter": {
   "hash": "3f6ea32111d82433ce350dbc633d2cbf10ae61217a78e88037f0e3c79e07d270"
  },
  "kernelspec": {
   "display_name": "Python 3.10.2 64-bit",
   "language": "python",
   "name": "python3"
  },
  "language_info": {
   "codemirror_mode": {
    "name": "ipython",
    "version": 3
   },
   "file_extension": ".py",
   "mimetype": "text/x-python",
   "name": "python",
   "nbconvert_exporter": "python",
   "pygments_lexer": "ipython3",
   "version": "3.10.2"
  },
  "orig_nbformat": 4
 },
 "nbformat": 4,
 "nbformat_minor": 2
}
